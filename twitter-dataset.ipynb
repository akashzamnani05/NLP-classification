{
 "cells": [
  {
   "cell_type": "code",
   "execution_count": 54,
   "id": "c1e7179a",
   "metadata": {},
   "outputs": [],
   "source": [
    "import numpy as np\n",
    "import pandas as pd\n",
    "import matplotlib.pyplot as plt \n",
    "from sklearn.model_selection import train_test_split\n",
    "\n",
    "from tensorflow.keras.layers import Dense , Input, GlobalMaxPool1D, LSTM,Embedding\n",
    "from tensorflow.keras.optimizers import Adam,SGD\n",
    "from tensorflow.keras.preprocessing.text import Tokenizer\n",
    "from tensorflow.keras.preprocessing.sequence import pad_sequences\n",
    "from tensorflow.keras.models import Model"
   ]
  },
  {
   "cell_type": "code",
   "execution_count": 55,
   "id": "68fd2c1d",
   "metadata": {},
   "outputs": [
    {
     "data": {
      "text/html": [
       "<div>\n",
       "<style scoped>\n",
       "    .dataframe tbody tr th:only-of-type {\n",
       "        vertical-align: middle;\n",
       "    }\n",
       "\n",
       "    .dataframe tbody tr th {\n",
       "        vertical-align: top;\n",
       "    }\n",
       "\n",
       "    .dataframe thead th {\n",
       "        text-align: right;\n",
       "    }\n",
       "</style>\n",
       "<table border=\"1\" class=\"dataframe\">\n",
       "  <thead>\n",
       "    <tr style=\"text-align: right;\">\n",
       "      <th></th>\n",
       "      <th>2401</th>\n",
       "      <th>Borderlands</th>\n",
       "      <th>Positive</th>\n",
       "      <th>im getting on borderlands and i will murder you all ,</th>\n",
       "    </tr>\n",
       "  </thead>\n",
       "  <tbody>\n",
       "    <tr>\n",
       "      <th>0</th>\n",
       "      <td>2401</td>\n",
       "      <td>Borderlands</td>\n",
       "      <td>Positive</td>\n",
       "      <td>I am coming to the borders and I will kill you...</td>\n",
       "    </tr>\n",
       "    <tr>\n",
       "      <th>1</th>\n",
       "      <td>2401</td>\n",
       "      <td>Borderlands</td>\n",
       "      <td>Positive</td>\n",
       "      <td>im getting on borderlands and i will kill you ...</td>\n",
       "    </tr>\n",
       "    <tr>\n",
       "      <th>2</th>\n",
       "      <td>2401</td>\n",
       "      <td>Borderlands</td>\n",
       "      <td>Positive</td>\n",
       "      <td>im coming on borderlands and i will murder you...</td>\n",
       "    </tr>\n",
       "    <tr>\n",
       "      <th>3</th>\n",
       "      <td>2401</td>\n",
       "      <td>Borderlands</td>\n",
       "      <td>Positive</td>\n",
       "      <td>im getting on borderlands 2 and i will murder ...</td>\n",
       "    </tr>\n",
       "    <tr>\n",
       "      <th>4</th>\n",
       "      <td>2401</td>\n",
       "      <td>Borderlands</td>\n",
       "      <td>Positive</td>\n",
       "      <td>im getting into borderlands and i can murder y...</td>\n",
       "    </tr>\n",
       "  </tbody>\n",
       "</table>\n",
       "</div>"
      ],
      "text/plain": [
       "   2401  Borderlands  Positive  \\\n",
       "0  2401  Borderlands  Positive   \n",
       "1  2401  Borderlands  Positive   \n",
       "2  2401  Borderlands  Positive   \n",
       "3  2401  Borderlands  Positive   \n",
       "4  2401  Borderlands  Positive   \n",
       "\n",
       "  im getting on borderlands and i will murder you all ,  \n",
       "0  I am coming to the borders and I will kill you...     \n",
       "1  im getting on borderlands and i will kill you ...     \n",
       "2  im coming on borderlands and i will murder you...     \n",
       "3  im getting on borderlands 2 and i will murder ...     \n",
       "4  im getting into borderlands and i can murder y...     "
      ]
     },
     "execution_count": 55,
     "metadata": {},
     "output_type": "execute_result"
    }
   ],
   "source": [
    "train = pd.read_csv('/Users/akashzamnani/datasets/NLP/twitter-nlp/twitter_training.csv')\n",
    "train.head()"
   ]
  },
  {
   "cell_type": "code",
   "execution_count": 56,
   "id": "323a5bde",
   "metadata": {},
   "outputs": [
    {
     "data": {
      "text/html": [
       "<div>\n",
       "<style scoped>\n",
       "    .dataframe tbody tr th:only-of-type {\n",
       "        vertical-align: middle;\n",
       "    }\n",
       "\n",
       "    .dataframe tbody tr th {\n",
       "        vertical-align: top;\n",
       "    }\n",
       "\n",
       "    .dataframe thead th {\n",
       "        text-align: right;\n",
       "    }\n",
       "</style>\n",
       "<table border=\"1\" class=\"dataframe\">\n",
       "  <thead>\n",
       "    <tr style=\"text-align: right;\">\n",
       "      <th></th>\n",
       "      <th>3364</th>\n",
       "      <th>Facebook</th>\n",
       "      <th>Irrelevant</th>\n",
       "      <th>I mentioned on Facebook that I was struggling for motivation to go for a run the other day, which has been translated by Tom’s great auntie as ‘Hayley can’t get out of bed’ and told to his grandma, who now thinks I’m a lazy, terrible person 🤣</th>\n",
       "    </tr>\n",
       "  </thead>\n",
       "  <tbody>\n",
       "    <tr>\n",
       "      <th>0</th>\n",
       "      <td>352</td>\n",
       "      <td>Amazon</td>\n",
       "      <td>Neutral</td>\n",
       "      <td>BBC News - Amazon boss Jeff Bezos rejects clai...</td>\n",
       "    </tr>\n",
       "    <tr>\n",
       "      <th>1</th>\n",
       "      <td>8312</td>\n",
       "      <td>Microsoft</td>\n",
       "      <td>Negative</td>\n",
       "      <td>@Microsoft Why do I pay for WORD when it funct...</td>\n",
       "    </tr>\n",
       "    <tr>\n",
       "      <th>2</th>\n",
       "      <td>4371</td>\n",
       "      <td>CS-GO</td>\n",
       "      <td>Negative</td>\n",
       "      <td>CSGO matchmaking is so full of closet hacking,...</td>\n",
       "    </tr>\n",
       "    <tr>\n",
       "      <th>3</th>\n",
       "      <td>4433</td>\n",
       "      <td>Google</td>\n",
       "      <td>Neutral</td>\n",
       "      <td>Now the President is slapping Americans in the...</td>\n",
       "    </tr>\n",
       "    <tr>\n",
       "      <th>4</th>\n",
       "      <td>6273</td>\n",
       "      <td>FIFA</td>\n",
       "      <td>Negative</td>\n",
       "      <td>Hi @EAHelp I’ve had Madeleine McCann in my cel...</td>\n",
       "    </tr>\n",
       "  </tbody>\n",
       "</table>\n",
       "</div>"
      ],
      "text/plain": [
       "   3364   Facebook Irrelevant  \\\n",
       "0   352     Amazon    Neutral   \n",
       "1  8312  Microsoft   Negative   \n",
       "2  4371      CS-GO   Negative   \n",
       "3  4433     Google    Neutral   \n",
       "4  6273       FIFA   Negative   \n",
       "\n",
       "  I mentioned on Facebook that I was struggling for motivation to go for a run the other day, which has been translated by Tom’s great auntie as ‘Hayley can’t get out of bed’ and told to his grandma, who now thinks I’m a lazy, terrible person 🤣  \n",
       "0  BBC News - Amazon boss Jeff Bezos rejects clai...                                                                                                                                                                                                  \n",
       "1  @Microsoft Why do I pay for WORD when it funct...                                                                                                                                                                                                  \n",
       "2  CSGO matchmaking is so full of closet hacking,...                                                                                                                                                                                                  \n",
       "3  Now the President is slapping Americans in the...                                                                                                                                                                                                  \n",
       "4  Hi @EAHelp I’ve had Madeleine McCann in my cel...                                                                                                                                                                                                  "
      ]
     },
     "execution_count": 56,
     "metadata": {},
     "output_type": "execute_result"
    }
   ],
   "source": [
    "test = pd.read_csv('/Users/akashzamnani/datasets/NLP/twitter-nlp/twitter_validation.csv')\n",
    "test.head()"
   ]
  },
  {
   "cell_type": "code",
   "execution_count": 57,
   "id": "1b80c49d",
   "metadata": {},
   "outputs": [
    {
     "data": {
      "text/plain": [
       "array(['Borderlands', 'CallOfDutyBlackopsColdWar', 'Amazon', 'Overwatch',\n",
       "       'Xbox(Xseries)', 'NBA2K', 'Dota2', 'PlayStation5(PS5)',\n",
       "       'WorldOfCraft', 'CS-GO', 'Google', 'AssassinsCreed', 'ApexLegends',\n",
       "       'LeagueOfLegends', 'Fortnite', 'Microsoft', 'Hearthstone',\n",
       "       'Battlefield', 'PlayerUnknownsBattlegrounds(PUBG)', 'Verizon',\n",
       "       'HomeDepot', 'FIFA', 'RedDeadRedemption(RDR)', 'CallOfDuty',\n",
       "       'TomClancysRainbowSix', 'Facebook', 'GrandTheftAuto(GTA)',\n",
       "       'MaddenNFL', 'johnson&johnson', 'Cyberpunk2077',\n",
       "       'TomClancysGhostRecon', 'Nvidia'], dtype=object)"
      ]
     },
     "execution_count": 57,
     "metadata": {},
     "output_type": "execute_result"
    }
   ],
   "source": [
    "train['Borderlands'].unique()"
   ]
  },
  {
   "cell_type": "code",
   "execution_count": 58,
   "id": "9ae25c5b",
   "metadata": {},
   "outputs": [],
   "source": [
    "train = train.dropna()\n",
    "test = test.dropna()"
   ]
  },
  {
   "cell_type": "code",
   "execution_count": 59,
   "id": "c7afd1a1",
   "metadata": {},
   "outputs": [
    {
     "data": {
      "text/plain": [
       "3364                                                                                                                                                                                                                                                  0\n",
       "Facebook                                                                                                                                                                                                                                              0\n",
       "Irrelevant                                                                                                                                                                                                                                            0\n",
       "I mentioned on Facebook that I was struggling for motivation to go for a run the other day, which has been translated by Tom’s great auntie as ‘Hayley can’t get out of bed’ and told to his grandma, who now thinks I’m a lazy, terrible person 🤣    0\n",
       "dtype: int64"
      ]
     },
     "execution_count": 59,
     "metadata": {},
     "output_type": "execute_result"
    }
   ],
   "source": [
    "test.isna().sum()"
   ]
  },
  {
   "cell_type": "code",
   "execution_count": 60,
   "id": "7d618d56",
   "metadata": {},
   "outputs": [
    {
     "data": {
      "text/plain": [
       "array([2401, 2402, 2403, ..., 9198, 9199, 9200])"
      ]
     },
     "execution_count": 60,
     "metadata": {},
     "output_type": "execute_result"
    }
   ],
   "source": [
    "train['2401'].unique()"
   ]
  },
  {
   "cell_type": "code",
   "execution_count": 61,
   "id": "4bca07d7",
   "metadata": {},
   "outputs": [
    {
     "data": {
      "text/html": [
       "<div>\n",
       "<style scoped>\n",
       "    .dataframe tbody tr th:only-of-type {\n",
       "        vertical-align: middle;\n",
       "    }\n",
       "\n",
       "    .dataframe tbody tr th {\n",
       "        vertical-align: top;\n",
       "    }\n",
       "\n",
       "    .dataframe thead th {\n",
       "        text-align: right;\n",
       "    }\n",
       "</style>\n",
       "<table border=\"1\" class=\"dataframe\">\n",
       "  <thead>\n",
       "    <tr style=\"text-align: right;\">\n",
       "      <th></th>\n",
       "      <th>name</th>\n",
       "      <th>type</th>\n",
       "      <th>comment</th>\n",
       "    </tr>\n",
       "  </thead>\n",
       "  <tbody>\n",
       "    <tr>\n",
       "      <th>0</th>\n",
       "      <td>Battlefield</td>\n",
       "      <td>Irrelevant</td>\n",
       "      <td>A ban for Battlefield 4 player yoshistyles has...</td>\n",
       "    </tr>\n",
       "    <tr>\n",
       "      <th>1</th>\n",
       "      <td>HomeDepot</td>\n",
       "      <td>Neutral</td>\n",
       "      <td>23 A car rolled out of entering a church parki...</td>\n",
       "    </tr>\n",
       "    <tr>\n",
       "      <th>2</th>\n",
       "      <td>AssassinsCreed</td>\n",
       "      <td>Positive</td>\n",
       "      <td>WOW FUCK YOURE DEFENDING THOSE COMMENTS. i thi...</td>\n",
       "    </tr>\n",
       "    <tr>\n",
       "      <th>3</th>\n",
       "      <td>CS-GO</td>\n",
       "      <td>Positive</td>\n",
       "      <td>Really want to get back into her senior squad ...</td>\n",
       "    </tr>\n",
       "    <tr>\n",
       "      <th>4</th>\n",
       "      <td>PlayerUnknownsBattlegrounds(PUBG)</td>\n",
       "      <td>Irrelevant</td>\n",
       "      <td>It's only 2⃣ days before the PSL Elisa Viihde ...</td>\n",
       "    </tr>\n",
       "  </tbody>\n",
       "</table>\n",
       "</div>"
      ],
      "text/plain": [
       "                                name        type  \\\n",
       "0                        Battlefield  Irrelevant   \n",
       "1                          HomeDepot     Neutral   \n",
       "2                     AssassinsCreed    Positive   \n",
       "3                              CS-GO    Positive   \n",
       "4  PlayerUnknownsBattlegrounds(PUBG)  Irrelevant   \n",
       "\n",
       "                                             comment  \n",
       "0  A ban for Battlefield 4 player yoshistyles has...  \n",
       "1  23 A car rolled out of entering a church parki...  \n",
       "2  WOW FUCK YOURE DEFENDING THOSE COMMENTS. i thi...  \n",
       "3  Really want to get back into her senior squad ...  \n",
       "4  It's only 2⃣ days before the PSL Elisa Viihde ...  "
      ]
     },
     "execution_count": 61,
     "metadata": {},
     "output_type": "execute_result"
    }
   ],
   "source": [
    "train = train.drop(['2401'],axis=1)\n",
    "train.columns = ['name','type','comment']\n",
    "train = train.sample(n=len(train))\n",
    "train = train.reset_index(drop=True)\n",
    "train.head()"
   ]
  },
  {
   "cell_type": "code",
   "execution_count": 62,
   "id": "9edfaa49",
   "metadata": {},
   "outputs": [
    {
     "data": {
      "text/html": [
       "<div>\n",
       "<style scoped>\n",
       "    .dataframe tbody tr th:only-of-type {\n",
       "        vertical-align: middle;\n",
       "    }\n",
       "\n",
       "    .dataframe tbody tr th {\n",
       "        vertical-align: top;\n",
       "    }\n",
       "\n",
       "    .dataframe thead th {\n",
       "        text-align: right;\n",
       "    }\n",
       "</style>\n",
       "<table border=\"1\" class=\"dataframe\">\n",
       "  <thead>\n",
       "    <tr style=\"text-align: right;\">\n",
       "      <th></th>\n",
       "      <th>name</th>\n",
       "      <th>type</th>\n",
       "      <th>comment</th>\n",
       "    </tr>\n",
       "  </thead>\n",
       "  <tbody>\n",
       "    <tr>\n",
       "      <th>0</th>\n",
       "      <td>Facebook</td>\n",
       "      <td>Irrelevant</td>\n",
       "      <td>another reason why QT is superior 😌</td>\n",
       "    </tr>\n",
       "    <tr>\n",
       "      <th>1</th>\n",
       "      <td>Borderlands</td>\n",
       "      <td>Neutral</td>\n",
       "      <td>Borderlands® 3\\nFirebug (Bronze)\\nSabotage all...</td>\n",
       "    </tr>\n",
       "    <tr>\n",
       "      <th>2</th>\n",
       "      <td>WorldOfCraft</td>\n",
       "      <td>Neutral</td>\n",
       "      <td>zysola.blogspot.com/p/welcome.html… #zysola #t...</td>\n",
       "    </tr>\n",
       "    <tr>\n",
       "      <th>3</th>\n",
       "      <td>CallOfDuty</td>\n",
       "      <td>Irrelevant</td>\n",
       "      <td>Call of duty warzone (livestream) w/ subs #War...</td>\n",
       "    </tr>\n",
       "    <tr>\n",
       "      <th>4</th>\n",
       "      <td>AssassinsCreed</td>\n",
       "      <td>Positive</td>\n",
       "      <td>FUCKKKKKK I CANT WAIT</td>\n",
       "    </tr>\n",
       "  </tbody>\n",
       "</table>\n",
       "</div>"
      ],
      "text/plain": [
       "             name        type  \\\n",
       "0        Facebook  Irrelevant   \n",
       "1     Borderlands     Neutral   \n",
       "2    WorldOfCraft     Neutral   \n",
       "3      CallOfDuty  Irrelevant   \n",
       "4  AssassinsCreed    Positive   \n",
       "\n",
       "                                             comment  \n",
       "0                another reason why QT is superior 😌  \n",
       "1  Borderlands® 3\\nFirebug (Bronze)\\nSabotage all...  \n",
       "2  zysola.blogspot.com/p/welcome.html… #zysola #t...  \n",
       "3  Call of duty warzone (livestream) w/ subs #War...  \n",
       "4                              FUCKKKKKK I CANT WAIT  "
      ]
     },
     "execution_count": 62,
     "metadata": {},
     "output_type": "execute_result"
    }
   ],
   "source": [
    "test = test.drop(['3364'],axis=1)\n",
    "test.columns = ['name','type','comment']\n",
    "test = test.sample(n=len(test))\n",
    "test = test.reset_index(drop=True)\n",
    "test.head()"
   ]
  },
  {
   "cell_type": "code",
   "execution_count": 63,
   "id": "b29af5b4",
   "metadata": {},
   "outputs": [],
   "source": [
    "train['type'] = train['type'].map({'Irrelevant':0,'Negative':1,'Neutral':2,'Positive':3})"
   ]
  },
  {
   "cell_type": "code",
   "execution_count": 64,
   "id": "fa1bbc9f",
   "metadata": {},
   "outputs": [],
   "source": [
    "test['type'] = test['type'].map({'Irrelevant':0,'Negative':1,'Neutral':2,'Positive':3})"
   ]
  },
  {
   "cell_type": "code",
   "execution_count": 65,
   "id": "71bc5333",
   "metadata": {},
   "outputs": [],
   "source": [
    "y_train = train['type'].values\n",
    "y_test = test['type'].values\n",
    "x_train = train['comment'].values\n",
    "x_test = test['comment'].values"
   ]
  },
  {
   "cell_type": "code",
   "execution_count": 66,
   "id": "cfbea3ae",
   "metadata": {},
   "outputs": [
    {
     "data": {
      "text/plain": [
       "array(['A ban for Battlefield 4 player yoshistyles has occurred SEE DETAILS: bf4db.com/player/ban/170…',\n",
       "       '23 A car rolled out of entering a church parking light lot and slid over from an embankment at a Hills Home Insurance Depot in El Dorado last week, crew and police believe a dog is hard to blame : arkansasonline. com / news / 2020 / jan / …',\n",
       "       'WOW FUCK YOURE DEFENDING THOSE COMMENTS. i think about Bitcoin, but i got Assassins Creed on Blu Ray and they blew cigarette',\n",
       "       ...,\n",
       "       'I remember back before when people in Earth Battlefield 3 would put C4s stamped on on the military buggies..... 20 People still do this wtf',\n",
       "       'Come watch me working to complete the!royalechallenge',\n",
       "       'When I complete the battle pass and the officer rank progression challenges each season,  '],\n",
       "      dtype=object)"
      ]
     },
     "execution_count": 66,
     "metadata": {},
     "output_type": "execute_result"
    }
   ],
   "source": [
    "x_train"
   ]
  },
  {
   "cell_type": "code",
   "execution_count": 68,
   "id": "c4ab54dc",
   "metadata": {},
   "outputs": [],
   "source": [
    "MAX_VOCAB_SIZE = 20000\n",
    "tokenizer = Tokenizer(MAX_VOCAB_SIZE)\n",
    "tokenizer.fit_on_texts(x_train)\n",
    "sequences_train = tokenizer.texts_to_sequences(x_train)\n",
    "sequences_test = tokenizer.texts_to_sequences(x_test)"
   ]
  },
  {
   "cell_type": "code",
   "execution_count": 70,
   "id": "1761f9b2",
   "metadata": {},
   "outputs": [],
   "source": [
    "word2idx = tokenizer.word_index\n",
    "N = len(word2idx)"
   ]
  },
  {
   "cell_type": "code",
   "execution_count": 72,
   "id": "a67998b4",
   "metadata": {},
   "outputs": [
    {
     "data": {
      "text/plain": [
       "(73995, 166)"
      ]
     },
     "execution_count": 72,
     "metadata": {},
     "output_type": "execute_result"
    }
   ],
   "source": [
    "x_train = pad_sequences(sequences_train)\n",
    "x_train.shape"
   ]
  },
  {
   "cell_type": "code",
   "execution_count": 73,
   "id": "b9dbf140",
   "metadata": {},
   "outputs": [],
   "source": [
    "T = x_train.shape[1]"
   ]
  },
  {
   "cell_type": "code",
   "execution_count": 74,
   "id": "64a5fe66",
   "metadata": {},
   "outputs": [],
   "source": [
    "x_test = pad_sequences(sequences_test, maxlen=T)"
   ]
  },
  {
   "cell_type": "code",
   "execution_count": 75,
   "id": "5fbed435",
   "metadata": {},
   "outputs": [],
   "source": [
    "D = 30\n",
    "\n",
    "i = Input(shape=(T,))\n",
    "x = Embedding(N+1,D)(i)\n",
    "x = LSTM(25,activation='relu',return_sequences=True)(x)\n",
    "x = GlobalMaxPool1D()(x)\n",
    "x = Dense(4, activation='softmax')(x)\n",
    "\n",
    "model = Model(i,x)"
   ]
  },
  {
   "cell_type": "code",
   "execution_count": 76,
   "id": "bd413808",
   "metadata": {},
   "outputs": [],
   "source": [
    "model.compile(optimizer='adam',loss='sparse_categorical_crossentropy',metrics=['accuracy'])"
   ]
  },
  {
   "cell_type": "code",
   "execution_count": 77,
   "id": "7e58b11e",
   "metadata": {},
   "outputs": [
    {
     "name": "stdout",
     "output_type": "stream",
     "text": [
      "Epoch 1/20\n",
      "\u001b[1m2313/2313\u001b[0m \u001b[32m━━━━━━━━━━━━━━━━━━━━\u001b[0m\u001b[37m\u001b[0m \u001b[1m52s\u001b[0m 22ms/step - accuracy: 0.4477 - loss: 18.7734 - val_accuracy: 0.6266 - val_loss: 0.9536\n",
      "Epoch 2/20\n",
      "\u001b[1m2313/2313\u001b[0m \u001b[32m━━━━━━━━━━━━━━━━━━━━\u001b[0m\u001b[37m\u001b[0m \u001b[1m52s\u001b[0m 22ms/step - accuracy: 0.6318 - loss: 0.9320 - val_accuracy: 0.7718 - val_loss: 0.6472\n",
      "Epoch 3/20\n",
      "\u001b[1m2313/2313\u001b[0m \u001b[32m━━━━━━━━━━━━━━━━━━━━\u001b[0m\u001b[37m\u001b[0m \u001b[1m51s\u001b[0m 22ms/step - accuracy: 0.7412 - loss: 0.8031 - val_accuracy: 0.8599 - val_loss: 0.4761\n",
      "Epoch 4/20\n",
      "\u001b[1m2313/2313\u001b[0m \u001b[32m━━━━━━━━━━━━━━━━━━━━\u001b[0m\u001b[37m\u001b[0m \u001b[1m51s\u001b[0m 22ms/step - accuracy: 0.8115 - loss: 0.5522 - val_accuracy: 0.8909 - val_loss: 0.3666\n",
      "Epoch 5/20\n",
      "\u001b[1m2313/2313\u001b[0m \u001b[32m━━━━━━━━━━━━━━━━━━━━\u001b[0m\u001b[37m\u001b[0m \u001b[1m51s\u001b[0m 22ms/step - accuracy: 0.8529 - loss: 0.4308 - val_accuracy: 0.9219 - val_loss: 0.2774\n",
      "Epoch 6/20\n",
      "\u001b[1m2313/2313\u001b[0m \u001b[32m━━━━━━━━━━━━━━━━━━━━\u001b[0m\u001b[37m\u001b[0m \u001b[1m51s\u001b[0m 22ms/step - accuracy: 0.8781 - loss: 0.3402 - val_accuracy: 0.9259 - val_loss: 0.2362\n",
      "Epoch 7/20\n",
      "\u001b[1m2313/2313\u001b[0m \u001b[32m━━━━━━━━━━━━━━━━━━━━\u001b[0m\u001b[37m\u001b[0m \u001b[1m51s\u001b[0m 22ms/step - accuracy: 0.8992 - loss: 0.2793 - val_accuracy: 0.9389 - val_loss: 0.2150\n",
      "Epoch 8/20\n",
      "\u001b[1m2313/2313\u001b[0m \u001b[32m━━━━━━━━━━━━━━━━━━━━\u001b[0m\u001b[37m\u001b[0m \u001b[1m52s\u001b[0m 22ms/step - accuracy: 0.9140 - loss: 0.2355 - val_accuracy: 0.9389 - val_loss: 0.2174\n",
      "Epoch 9/20\n",
      "\u001b[1m2313/2313\u001b[0m \u001b[32m━━━━━━━━━━━━━━━━━━━━\u001b[0m\u001b[37m\u001b[0m \u001b[1m52s\u001b[0m 22ms/step - accuracy: 0.9237 - loss: 0.2093 - val_accuracy: 0.9479 - val_loss: 0.2160\n",
      "Epoch 10/20\n",
      "\u001b[1m2313/2313\u001b[0m \u001b[32m━━━━━━━━━━━━━━━━━━━━\u001b[0m\u001b[37m\u001b[0m \u001b[1m51s\u001b[0m 22ms/step - accuracy: 0.9311 - loss: 0.1817 - val_accuracy: 0.9489 - val_loss: 0.2277\n",
      "Epoch 11/20\n",
      "\u001b[1m2313/2313\u001b[0m \u001b[32m━━━━━━━━━━━━━━━━━━━━\u001b[0m\u001b[37m\u001b[0m \u001b[1m51s\u001b[0m 22ms/step - accuracy: 0.9373 - loss: 0.1648 - val_accuracy: 0.9540 - val_loss: 0.2324\n",
      "Epoch 12/20\n",
      "\u001b[1m2313/2313\u001b[0m \u001b[32m━━━━━━━━━━━━━━━━━━━━\u001b[0m\u001b[37m\u001b[0m \u001b[1m52s\u001b[0m 22ms/step - accuracy: 0.9453 - loss: 0.1440 - val_accuracy: 0.9550 - val_loss: 0.2121\n",
      "Epoch 13/20\n",
      "\u001b[1m2313/2313\u001b[0m \u001b[32m━━━━━━━━━━━━━━━━━━━━\u001b[0m\u001b[37m\u001b[0m \u001b[1m51s\u001b[0m 22ms/step - accuracy: 0.9489 - loss: 0.1330 - val_accuracy: 0.9580 - val_loss: 0.2310\n",
      "Epoch 14/20\n",
      "\u001b[1m2313/2313\u001b[0m \u001b[32m━━━━━━━━━━━━━━━━━━━━\u001b[0m\u001b[37m\u001b[0m \u001b[1m51s\u001b[0m 22ms/step - accuracy: 0.9537 - loss: 0.1195 - val_accuracy: 0.9600 - val_loss: 0.2426\n",
      "Epoch 15/20\n",
      "\u001b[1m2313/2313\u001b[0m \u001b[32m━━━━━━━━━━━━━━━━━━━━\u001b[0m\u001b[37m\u001b[0m \u001b[1m51s\u001b[0m 22ms/step - accuracy: 0.9603 - loss: 0.1033 - val_accuracy: 0.9590 - val_loss: 0.2444\n",
      "Epoch 16/20\n",
      "\u001b[1m2313/2313\u001b[0m \u001b[32m━━━━━━━━━━━━━━━━━━━━\u001b[0m\u001b[37m\u001b[0m \u001b[1m51s\u001b[0m 22ms/step - accuracy: 0.9601 - loss: 0.1002 - val_accuracy: 0.9610 - val_loss: 0.2645\n",
      "Epoch 17/20\n",
      "\u001b[1m2313/2313\u001b[0m \u001b[32m━━━━━━━━━━━━━━━━━━━━\u001b[0m\u001b[37m\u001b[0m \u001b[1m52s\u001b[0m 22ms/step - accuracy: 0.9632 - loss: 0.0930 - val_accuracy: 0.9640 - val_loss: 0.2659\n",
      "Epoch 18/20\n",
      "\u001b[1m2313/2313\u001b[0m \u001b[32m━━━━━━━━━━━━━━━━━━━━\u001b[0m\u001b[37m\u001b[0m \u001b[1m51s\u001b[0m 22ms/step - accuracy: 0.9653 - loss: 0.0856 - val_accuracy: 0.9590 - val_loss: 0.3196\n",
      "Epoch 19/20\n",
      "\u001b[1m2313/2313\u001b[0m \u001b[32m━━━━━━━━━━━━━━━━━━━━\u001b[0m\u001b[37m\u001b[0m \u001b[1m51s\u001b[0m 22ms/step - accuracy: 0.9666 - loss: 0.0814 - val_accuracy: 0.9660 - val_loss: 0.2866\n",
      "Epoch 20/20\n",
      "\u001b[1m2313/2313\u001b[0m \u001b[32m━━━━━━━━━━━━━━━━━━━━\u001b[0m\u001b[37m\u001b[0m \u001b[1m51s\u001b[0m 22ms/step - accuracy: 0.9691 - loss: 0.0757 - val_accuracy: 0.9620 - val_loss: 0.2886\n"
     ]
    },
    {
     "data": {
      "text/plain": [
       "<keras.src.callbacks.history.History at 0x34d114520>"
      ]
     },
     "execution_count": 77,
     "metadata": {},
     "output_type": "execute_result"
    }
   ],
   "source": [
    "model.fit(x_train,y_train,epochs=20,validation_data=(x_test,y_test))"
   ]
  },
  {
   "cell_type": "code",
   "execution_count": null,
   "id": "5951a4fc",
   "metadata": {},
   "outputs": [],
   "source": []
  }
 ],
 "metadata": {
  "kernelspec": {
   "display_name": "Python [conda env:py3-TF2.0] *",
   "language": "python",
   "name": "conda-env-py3-TF2.0-py"
  },
  "language_info": {
   "codemirror_mode": {
    "name": "ipython",
    "version": 3
   },
   "file_extension": ".py",
   "mimetype": "text/x-python",
   "name": "python",
   "nbconvert_exporter": "python",
   "pygments_lexer": "ipython3",
   "version": "3.9.18"
  }
 },
 "nbformat": 4,
 "nbformat_minor": 5
}
